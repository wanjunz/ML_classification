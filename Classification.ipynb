{
  "nbformat": 4,
  "nbformat_minor": 0,
  "metadata": {
    "colab": {
      "name": "Classification.ipynb",
      "provenance": []
    },
    "kernelspec": {
      "name": "python3",
      "display_name": "Python 3"
    },
    "language_info": {
      "name": "python"
    },
    "accelerator": "GPU",
    "gpuClass": "standard",
    "widgets": {
      "application/vnd.jupyter.widget-state+json": {
        "c3b2e0110eaa4cf5a7cdaf92e66b047d": {
          "model_module": "@jupyter-widgets/controls",
          "model_name": "HBoxModel",
          "model_module_version": "1.5.0",
          "state": {
            "_dom_classes": [],
            "_model_module": "@jupyter-widgets/controls",
            "_model_module_version": "1.5.0",
            "_model_name": "HBoxModel",
            "_view_count": null,
            "_view_module": "@jupyter-widgets/controls",
            "_view_module_version": "1.5.0",
            "_view_name": "HBoxView",
            "box_style": "",
            "children": [
              "IPY_MODEL_1c6eafee7fe34eac8732856d2c1fa8cf",
              "IPY_MODEL_66111ab330ab45fa8b9ae30fe4bb67b1",
              "IPY_MODEL_dd886c4e9f834d49b54987eb50a1a0b3"
            ],
            "layout": "IPY_MODEL_80e3c93bf1d34c4e8b87657a65612fc5"
          }
        },
        "1c6eafee7fe34eac8732856d2c1fa8cf": {
          "model_module": "@jupyter-widgets/controls",
          "model_name": "HTMLModel",
          "model_module_version": "1.5.0",
          "state": {
            "_dom_classes": [],
            "_model_module": "@jupyter-widgets/controls",
            "_model_module_version": "1.5.0",
            "_model_name": "HTMLModel",
            "_view_count": null,
            "_view_module": "@jupyter-widgets/controls",
            "_view_module_version": "1.5.0",
            "_view_name": "HTMLView",
            "description": "",
            "description_tooltip": null,
            "layout": "IPY_MODEL_3fd66cc9197945cdae05b32ac055fab2",
            "placeholder": "​",
            "style": "IPY_MODEL_31325ea02933493bbc1516f6fedadcef",
            "value": "100%"
          }
        },
        "66111ab330ab45fa8b9ae30fe4bb67b1": {
          "model_module": "@jupyter-widgets/controls",
          "model_name": "FloatProgressModel",
          "model_module_version": "1.5.0",
          "state": {
            "_dom_classes": [],
            "_model_module": "@jupyter-widgets/controls",
            "_model_module_version": "1.5.0",
            "_model_name": "FloatProgressModel",
            "_view_count": null,
            "_view_module": "@jupyter-widgets/controls",
            "_view_module_version": "1.5.0",
            "_view_name": "ProgressView",
            "bar_style": "success",
            "description": "",
            "description_tooltip": null,
            "layout": "IPY_MODEL_18f3eb7041304a55a48eba1b563a05a6",
            "max": 26421880,
            "min": 0,
            "orientation": "horizontal",
            "style": "IPY_MODEL_ead590a473cd4b62b7cb38831585432e",
            "value": 26421880
          }
        },
        "dd886c4e9f834d49b54987eb50a1a0b3": {
          "model_module": "@jupyter-widgets/controls",
          "model_name": "HTMLModel",
          "model_module_version": "1.5.0",
          "state": {
            "_dom_classes": [],
            "_model_module": "@jupyter-widgets/controls",
            "_model_module_version": "1.5.0",
            "_model_name": "HTMLModel",
            "_view_count": null,
            "_view_module": "@jupyter-widgets/controls",
            "_view_module_version": "1.5.0",
            "_view_name": "HTMLView",
            "description": "",
            "description_tooltip": null,
            "layout": "IPY_MODEL_38806a7b2f924456aa44a93aad63da77",
            "placeholder": "​",
            "style": "IPY_MODEL_05a2c0d283794957aadc9749e7975e03",
            "value": " 26421880/26421880 [00:03&lt;00:00, 13183107.08it/s]"
          }
        },
        "80e3c93bf1d34c4e8b87657a65612fc5": {
          "model_module": "@jupyter-widgets/base",
          "model_name": "LayoutModel",
          "model_module_version": "1.2.0",
          "state": {
            "_model_module": "@jupyter-widgets/base",
            "_model_module_version": "1.2.0",
            "_model_name": "LayoutModel",
            "_view_count": null,
            "_view_module": "@jupyter-widgets/base",
            "_view_module_version": "1.2.0",
            "_view_name": "LayoutView",
            "align_content": null,
            "align_items": null,
            "align_self": null,
            "border": null,
            "bottom": null,
            "display": null,
            "flex": null,
            "flex_flow": null,
            "grid_area": null,
            "grid_auto_columns": null,
            "grid_auto_flow": null,
            "grid_auto_rows": null,
            "grid_column": null,
            "grid_gap": null,
            "grid_row": null,
            "grid_template_areas": null,
            "grid_template_columns": null,
            "grid_template_rows": null,
            "height": null,
            "justify_content": null,
            "justify_items": null,
            "left": null,
            "margin": null,
            "max_height": null,
            "max_width": null,
            "min_height": null,
            "min_width": null,
            "object_fit": null,
            "object_position": null,
            "order": null,
            "overflow": null,
            "overflow_x": null,
            "overflow_y": null,
            "padding": null,
            "right": null,
            "top": null,
            "visibility": null,
            "width": null
          }
        },
        "3fd66cc9197945cdae05b32ac055fab2": {
          "model_module": "@jupyter-widgets/base",
          "model_name": "LayoutModel",
          "model_module_version": "1.2.0",
          "state": {
            "_model_module": "@jupyter-widgets/base",
            "_model_module_version": "1.2.0",
            "_model_name": "LayoutModel",
            "_view_count": null,
            "_view_module": "@jupyter-widgets/base",
            "_view_module_version": "1.2.0",
            "_view_name": "LayoutView",
            "align_content": null,
            "align_items": null,
            "align_self": null,
            "border": null,
            "bottom": null,
            "display": null,
            "flex": null,
            "flex_flow": null,
            "grid_area": null,
            "grid_auto_columns": null,
            "grid_auto_flow": null,
            "grid_auto_rows": null,
            "grid_column": null,
            "grid_gap": null,
            "grid_row": null,
            "grid_template_areas": null,
            "grid_template_columns": null,
            "grid_template_rows": null,
            "height": null,
            "justify_content": null,
            "justify_items": null,
            "left": null,
            "margin": null,
            "max_height": null,
            "max_width": null,
            "min_height": null,
            "min_width": null,
            "object_fit": null,
            "object_position": null,
            "order": null,
            "overflow": null,
            "overflow_x": null,
            "overflow_y": null,
            "padding": null,
            "right": null,
            "top": null,
            "visibility": null,
            "width": null
          }
        },
        "31325ea02933493bbc1516f6fedadcef": {
          "model_module": "@jupyter-widgets/controls",
          "model_name": "DescriptionStyleModel",
          "model_module_version": "1.5.0",
          "state": {
            "_model_module": "@jupyter-widgets/controls",
            "_model_module_version": "1.5.0",
            "_model_name": "DescriptionStyleModel",
            "_view_count": null,
            "_view_module": "@jupyter-widgets/base",
            "_view_module_version": "1.2.0",
            "_view_name": "StyleView",
            "description_width": ""
          }
        },
        "18f3eb7041304a55a48eba1b563a05a6": {
          "model_module": "@jupyter-widgets/base",
          "model_name": "LayoutModel",
          "model_module_version": "1.2.0",
          "state": {
            "_model_module": "@jupyter-widgets/base",
            "_model_module_version": "1.2.0",
            "_model_name": "LayoutModel",
            "_view_count": null,
            "_view_module": "@jupyter-widgets/base",
            "_view_module_version": "1.2.0",
            "_view_name": "LayoutView",
            "align_content": null,
            "align_items": null,
            "align_self": null,
            "border": null,
            "bottom": null,
            "display": null,
            "flex": null,
            "flex_flow": null,
            "grid_area": null,
            "grid_auto_columns": null,
            "grid_auto_flow": null,
            "grid_auto_rows": null,
            "grid_column": null,
            "grid_gap": null,
            "grid_row": null,
            "grid_template_areas": null,
            "grid_template_columns": null,
            "grid_template_rows": null,
            "height": null,
            "justify_content": null,
            "justify_items": null,
            "left": null,
            "margin": null,
            "max_height": null,
            "max_width": null,
            "min_height": null,
            "min_width": null,
            "object_fit": null,
            "object_position": null,
            "order": null,
            "overflow": null,
            "overflow_x": null,
            "overflow_y": null,
            "padding": null,
            "right": null,
            "top": null,
            "visibility": null,
            "width": null
          }
        },
        "ead590a473cd4b62b7cb38831585432e": {
          "model_module": "@jupyter-widgets/controls",
          "model_name": "ProgressStyleModel",
          "model_module_version": "1.5.0",
          "state": {
            "_model_module": "@jupyter-widgets/controls",
            "_model_module_version": "1.5.0",
            "_model_name": "ProgressStyleModel",
            "_view_count": null,
            "_view_module": "@jupyter-widgets/base",
            "_view_module_version": "1.2.0",
            "_view_name": "StyleView",
            "bar_color": null,
            "description_width": ""
          }
        },
        "38806a7b2f924456aa44a93aad63da77": {
          "model_module": "@jupyter-widgets/base",
          "model_name": "LayoutModel",
          "model_module_version": "1.2.0",
          "state": {
            "_model_module": "@jupyter-widgets/base",
            "_model_module_version": "1.2.0",
            "_model_name": "LayoutModel",
            "_view_count": null,
            "_view_module": "@jupyter-widgets/base",
            "_view_module_version": "1.2.0",
            "_view_name": "LayoutView",
            "align_content": null,
            "align_items": null,
            "align_self": null,
            "border": null,
            "bottom": null,
            "display": null,
            "flex": null,
            "flex_flow": null,
            "grid_area": null,
            "grid_auto_columns": null,
            "grid_auto_flow": null,
            "grid_auto_rows": null,
            "grid_column": null,
            "grid_gap": null,
            "grid_row": null,
            "grid_template_areas": null,
            "grid_template_columns": null,
            "grid_template_rows": null,
            "height": null,
            "justify_content": null,
            "justify_items": null,
            "left": null,
            "margin": null,
            "max_height": null,
            "max_width": null,
            "min_height": null,
            "min_width": null,
            "object_fit": null,
            "object_position": null,
            "order": null,
            "overflow": null,
            "overflow_x": null,
            "overflow_y": null,
            "padding": null,
            "right": null,
            "top": null,
            "visibility": null,
            "width": null
          }
        },
        "05a2c0d283794957aadc9749e7975e03": {
          "model_module": "@jupyter-widgets/controls",
          "model_name": "DescriptionStyleModel",
          "model_module_version": "1.5.0",
          "state": {
            "_model_module": "@jupyter-widgets/controls",
            "_model_module_version": "1.5.0",
            "_model_name": "DescriptionStyleModel",
            "_view_count": null,
            "_view_module": "@jupyter-widgets/base",
            "_view_module_version": "1.2.0",
            "_view_name": "StyleView",
            "description_width": ""
          }
        },
        "baf2de2db5f5427380f239631e4d4c22": {
          "model_module": "@jupyter-widgets/controls",
          "model_name": "HBoxModel",
          "model_module_version": "1.5.0",
          "state": {
            "_dom_classes": [],
            "_model_module": "@jupyter-widgets/controls",
            "_model_module_version": "1.5.0",
            "_model_name": "HBoxModel",
            "_view_count": null,
            "_view_module": "@jupyter-widgets/controls",
            "_view_module_version": "1.5.0",
            "_view_name": "HBoxView",
            "box_style": "",
            "children": [
              "IPY_MODEL_693816d02835417ea850c9e7890756da",
              "IPY_MODEL_73a878aaa2234479a14d2c87d59c10b3",
              "IPY_MODEL_a875f1992ab94690bc1578d8e08ec281"
            ],
            "layout": "IPY_MODEL_1dc5f1eef5a045e2a21dc229212fd03c"
          }
        },
        "693816d02835417ea850c9e7890756da": {
          "model_module": "@jupyter-widgets/controls",
          "model_name": "HTMLModel",
          "model_module_version": "1.5.0",
          "state": {
            "_dom_classes": [],
            "_model_module": "@jupyter-widgets/controls",
            "_model_module_version": "1.5.0",
            "_model_name": "HTMLModel",
            "_view_count": null,
            "_view_module": "@jupyter-widgets/controls",
            "_view_module_version": "1.5.0",
            "_view_name": "HTMLView",
            "description": "",
            "description_tooltip": null,
            "layout": "IPY_MODEL_a904612c172f4c678f8048aa451b7f44",
            "placeholder": "​",
            "style": "IPY_MODEL_4aaf3862b97c452086b53313cd8bf626",
            "value": "100%"
          }
        },
        "73a878aaa2234479a14d2c87d59c10b3": {
          "model_module": "@jupyter-widgets/controls",
          "model_name": "FloatProgressModel",
          "model_module_version": "1.5.0",
          "state": {
            "_dom_classes": [],
            "_model_module": "@jupyter-widgets/controls",
            "_model_module_version": "1.5.0",
            "_model_name": "FloatProgressModel",
            "_view_count": null,
            "_view_module": "@jupyter-widgets/controls",
            "_view_module_version": "1.5.0",
            "_view_name": "ProgressView",
            "bar_style": "success",
            "description": "",
            "description_tooltip": null,
            "layout": "IPY_MODEL_601d29800bc74d359eee0a88045681bd",
            "max": 29515,
            "min": 0,
            "orientation": "horizontal",
            "style": "IPY_MODEL_2ba59a78a9924b558feca5b8c73af658",
            "value": 29515
          }
        },
        "a875f1992ab94690bc1578d8e08ec281": {
          "model_module": "@jupyter-widgets/controls",
          "model_name": "HTMLModel",
          "model_module_version": "1.5.0",
          "state": {
            "_dom_classes": [],
            "_model_module": "@jupyter-widgets/controls",
            "_model_module_version": "1.5.0",
            "_model_name": "HTMLModel",
            "_view_count": null,
            "_view_module": "@jupyter-widgets/controls",
            "_view_module_version": "1.5.0",
            "_view_name": "HTMLView",
            "description": "",
            "description_tooltip": null,
            "layout": "IPY_MODEL_10803164734843558fcc0526b6fb4bbc",
            "placeholder": "​",
            "style": "IPY_MODEL_6b3961fa6a4c4e5e8518f5926c2c0236",
            "value": " 29515/29515 [00:00&lt;00:00, 139742.43it/s]"
          }
        },
        "1dc5f1eef5a045e2a21dc229212fd03c": {
          "model_module": "@jupyter-widgets/base",
          "model_name": "LayoutModel",
          "model_module_version": "1.2.0",
          "state": {
            "_model_module": "@jupyter-widgets/base",
            "_model_module_version": "1.2.0",
            "_model_name": "LayoutModel",
            "_view_count": null,
            "_view_module": "@jupyter-widgets/base",
            "_view_module_version": "1.2.0",
            "_view_name": "LayoutView",
            "align_content": null,
            "align_items": null,
            "align_self": null,
            "border": null,
            "bottom": null,
            "display": null,
            "flex": null,
            "flex_flow": null,
            "grid_area": null,
            "grid_auto_columns": null,
            "grid_auto_flow": null,
            "grid_auto_rows": null,
            "grid_column": null,
            "grid_gap": null,
            "grid_row": null,
            "grid_template_areas": null,
            "grid_template_columns": null,
            "grid_template_rows": null,
            "height": null,
            "justify_content": null,
            "justify_items": null,
            "left": null,
            "margin": null,
            "max_height": null,
            "max_width": null,
            "min_height": null,
            "min_width": null,
            "object_fit": null,
            "object_position": null,
            "order": null,
            "overflow": null,
            "overflow_x": null,
            "overflow_y": null,
            "padding": null,
            "right": null,
            "top": null,
            "visibility": null,
            "width": null
          }
        },
        "a904612c172f4c678f8048aa451b7f44": {
          "model_module": "@jupyter-widgets/base",
          "model_name": "LayoutModel",
          "model_module_version": "1.2.0",
          "state": {
            "_model_module": "@jupyter-widgets/base",
            "_model_module_version": "1.2.0",
            "_model_name": "LayoutModel",
            "_view_count": null,
            "_view_module": "@jupyter-widgets/base",
            "_view_module_version": "1.2.0",
            "_view_name": "LayoutView",
            "align_content": null,
            "align_items": null,
            "align_self": null,
            "border": null,
            "bottom": null,
            "display": null,
            "flex": null,
            "flex_flow": null,
            "grid_area": null,
            "grid_auto_columns": null,
            "grid_auto_flow": null,
            "grid_auto_rows": null,
            "grid_column": null,
            "grid_gap": null,
            "grid_row": null,
            "grid_template_areas": null,
            "grid_template_columns": null,
            "grid_template_rows": null,
            "height": null,
            "justify_content": null,
            "justify_items": null,
            "left": null,
            "margin": null,
            "max_height": null,
            "max_width": null,
            "min_height": null,
            "min_width": null,
            "object_fit": null,
            "object_position": null,
            "order": null,
            "overflow": null,
            "overflow_x": null,
            "overflow_y": null,
            "padding": null,
            "right": null,
            "top": null,
            "visibility": null,
            "width": null
          }
        },
        "4aaf3862b97c452086b53313cd8bf626": {
          "model_module": "@jupyter-widgets/controls",
          "model_name": "DescriptionStyleModel",
          "model_module_version": "1.5.0",
          "state": {
            "_model_module": "@jupyter-widgets/controls",
            "_model_module_version": "1.5.0",
            "_model_name": "DescriptionStyleModel",
            "_view_count": null,
            "_view_module": "@jupyter-widgets/base",
            "_view_module_version": "1.2.0",
            "_view_name": "StyleView",
            "description_width": ""
          }
        },
        "601d29800bc74d359eee0a88045681bd": {
          "model_module": "@jupyter-widgets/base",
          "model_name": "LayoutModel",
          "model_module_version": "1.2.0",
          "state": {
            "_model_module": "@jupyter-widgets/base",
            "_model_module_version": "1.2.0",
            "_model_name": "LayoutModel",
            "_view_count": null,
            "_view_module": "@jupyter-widgets/base",
            "_view_module_version": "1.2.0",
            "_view_name": "LayoutView",
            "align_content": null,
            "align_items": null,
            "align_self": null,
            "border": null,
            "bottom": null,
            "display": null,
            "flex": null,
            "flex_flow": null,
            "grid_area": null,
            "grid_auto_columns": null,
            "grid_auto_flow": null,
            "grid_auto_rows": null,
            "grid_column": null,
            "grid_gap": null,
            "grid_row": null,
            "grid_template_areas": null,
            "grid_template_columns": null,
            "grid_template_rows": null,
            "height": null,
            "justify_content": null,
            "justify_items": null,
            "left": null,
            "margin": null,
            "max_height": null,
            "max_width": null,
            "min_height": null,
            "min_width": null,
            "object_fit": null,
            "object_position": null,
            "order": null,
            "overflow": null,
            "overflow_x": null,
            "overflow_y": null,
            "padding": null,
            "right": null,
            "top": null,
            "visibility": null,
            "width": null
          }
        },
        "2ba59a78a9924b558feca5b8c73af658": {
          "model_module": "@jupyter-widgets/controls",
          "model_name": "ProgressStyleModel",
          "model_module_version": "1.5.0",
          "state": {
            "_model_module": "@jupyter-widgets/controls",
            "_model_module_version": "1.5.0",
            "_model_name": "ProgressStyleModel",
            "_view_count": null,
            "_view_module": "@jupyter-widgets/base",
            "_view_module_version": "1.2.0",
            "_view_name": "StyleView",
            "bar_color": null,
            "description_width": ""
          }
        },
        "10803164734843558fcc0526b6fb4bbc": {
          "model_module": "@jupyter-widgets/base",
          "model_name": "LayoutModel",
          "model_module_version": "1.2.0",
          "state": {
            "_model_module": "@jupyter-widgets/base",
            "_model_module_version": "1.2.0",
            "_model_name": "LayoutModel",
            "_view_count": null,
            "_view_module": "@jupyter-widgets/base",
            "_view_module_version": "1.2.0",
            "_view_name": "LayoutView",
            "align_content": null,
            "align_items": null,
            "align_self": null,
            "border": null,
            "bottom": null,
            "display": null,
            "flex": null,
            "flex_flow": null,
            "grid_area": null,
            "grid_auto_columns": null,
            "grid_auto_flow": null,
            "grid_auto_rows": null,
            "grid_column": null,
            "grid_gap": null,
            "grid_row": null,
            "grid_template_areas": null,
            "grid_template_columns": null,
            "grid_template_rows": null,
            "height": null,
            "justify_content": null,
            "justify_items": null,
            "left": null,
            "margin": null,
            "max_height": null,
            "max_width": null,
            "min_height": null,
            "min_width": null,
            "object_fit": null,
            "object_position": null,
            "order": null,
            "overflow": null,
            "overflow_x": null,
            "overflow_y": null,
            "padding": null,
            "right": null,
            "top": null,
            "visibility": null,
            "width": null
          }
        },
        "6b3961fa6a4c4e5e8518f5926c2c0236": {
          "model_module": "@jupyter-widgets/controls",
          "model_name": "DescriptionStyleModel",
          "model_module_version": "1.5.0",
          "state": {
            "_model_module": "@jupyter-widgets/controls",
            "_model_module_version": "1.5.0",
            "_model_name": "DescriptionStyleModel",
            "_view_count": null,
            "_view_module": "@jupyter-widgets/base",
            "_view_module_version": "1.2.0",
            "_view_name": "StyleView",
            "description_width": ""
          }
        },
        "a76ab03f70654086896d13eded34705a": {
          "model_module": "@jupyter-widgets/controls",
          "model_name": "HBoxModel",
          "model_module_version": "1.5.0",
          "state": {
            "_dom_classes": [],
            "_model_module": "@jupyter-widgets/controls",
            "_model_module_version": "1.5.0",
            "_model_name": "HBoxModel",
            "_view_count": null,
            "_view_module": "@jupyter-widgets/controls",
            "_view_module_version": "1.5.0",
            "_view_name": "HBoxView",
            "box_style": "",
            "children": [
              "IPY_MODEL_93b29187ea1143c68ad39191adf59216",
              "IPY_MODEL_ffc2cd4889834593b7498a1685597d20",
              "IPY_MODEL_c16165bfd9ef44a296d638df52adf599"
            ],
            "layout": "IPY_MODEL_c1551c9d8d9047fe877863c9b736fd16"
          }
        },
        "93b29187ea1143c68ad39191adf59216": {
          "model_module": "@jupyter-widgets/controls",
          "model_name": "HTMLModel",
          "model_module_version": "1.5.0",
          "state": {
            "_dom_classes": [],
            "_model_module": "@jupyter-widgets/controls",
            "_model_module_version": "1.5.0",
            "_model_name": "HTMLModel",
            "_view_count": null,
            "_view_module": "@jupyter-widgets/controls",
            "_view_module_version": "1.5.0",
            "_view_name": "HTMLView",
            "description": "",
            "description_tooltip": null,
            "layout": "IPY_MODEL_5808f64b816042819127e6a1cdeb3bcb",
            "placeholder": "​",
            "style": "IPY_MODEL_a89770d3aeb9465c81eb72cb96a3c37e",
            "value": "100%"
          }
        },
        "ffc2cd4889834593b7498a1685597d20": {
          "model_module": "@jupyter-widgets/controls",
          "model_name": "FloatProgressModel",
          "model_module_version": "1.5.0",
          "state": {
            "_dom_classes": [],
            "_model_module": "@jupyter-widgets/controls",
            "_model_module_version": "1.5.0",
            "_model_name": "FloatProgressModel",
            "_view_count": null,
            "_view_module": "@jupyter-widgets/controls",
            "_view_module_version": "1.5.0",
            "_view_name": "ProgressView",
            "bar_style": "success",
            "description": "",
            "description_tooltip": null,
            "layout": "IPY_MODEL_23b51d2c17bf48d2882a357f4817cbea",
            "max": 4422102,
            "min": 0,
            "orientation": "horizontal",
            "style": "IPY_MODEL_a9a26d7809e64e1b95e12884b3ac2082",
            "value": 4422102
          }
        },
        "c16165bfd9ef44a296d638df52adf599": {
          "model_module": "@jupyter-widgets/controls",
          "model_name": "HTMLModel",
          "model_module_version": "1.5.0",
          "state": {
            "_dom_classes": [],
            "_model_module": "@jupyter-widgets/controls",
            "_model_module_version": "1.5.0",
            "_model_name": "HTMLModel",
            "_view_count": null,
            "_view_module": "@jupyter-widgets/controls",
            "_view_module_version": "1.5.0",
            "_view_name": "HTMLView",
            "description": "",
            "description_tooltip": null,
            "layout": "IPY_MODEL_053104f326774ff3ac1ebf2bb6c8a18d",
            "placeholder": "​",
            "style": "IPY_MODEL_a933a067db6d42fa9d4e81200261f836",
            "value": " 4422102/4422102 [00:01&lt;00:00, 4562930.51it/s]"
          }
        },
        "c1551c9d8d9047fe877863c9b736fd16": {
          "model_module": "@jupyter-widgets/base",
          "model_name": "LayoutModel",
          "model_module_version": "1.2.0",
          "state": {
            "_model_module": "@jupyter-widgets/base",
            "_model_module_version": "1.2.0",
            "_model_name": "LayoutModel",
            "_view_count": null,
            "_view_module": "@jupyter-widgets/base",
            "_view_module_version": "1.2.0",
            "_view_name": "LayoutView",
            "align_content": null,
            "align_items": null,
            "align_self": null,
            "border": null,
            "bottom": null,
            "display": null,
            "flex": null,
            "flex_flow": null,
            "grid_area": null,
            "grid_auto_columns": null,
            "grid_auto_flow": null,
            "grid_auto_rows": null,
            "grid_column": null,
            "grid_gap": null,
            "grid_row": null,
            "grid_template_areas": null,
            "grid_template_columns": null,
            "grid_template_rows": null,
            "height": null,
            "justify_content": null,
            "justify_items": null,
            "left": null,
            "margin": null,
            "max_height": null,
            "max_width": null,
            "min_height": null,
            "min_width": null,
            "object_fit": null,
            "object_position": null,
            "order": null,
            "overflow": null,
            "overflow_x": null,
            "overflow_y": null,
            "padding": null,
            "right": null,
            "top": null,
            "visibility": null,
            "width": null
          }
        },
        "5808f64b816042819127e6a1cdeb3bcb": {
          "model_module": "@jupyter-widgets/base",
          "model_name": "LayoutModel",
          "model_module_version": "1.2.0",
          "state": {
            "_model_module": "@jupyter-widgets/base",
            "_model_module_version": "1.2.0",
            "_model_name": "LayoutModel",
            "_view_count": null,
            "_view_module": "@jupyter-widgets/base",
            "_view_module_version": "1.2.0",
            "_view_name": "LayoutView",
            "align_content": null,
            "align_items": null,
            "align_self": null,
            "border": null,
            "bottom": null,
            "display": null,
            "flex": null,
            "flex_flow": null,
            "grid_area": null,
            "grid_auto_columns": null,
            "grid_auto_flow": null,
            "grid_auto_rows": null,
            "grid_column": null,
            "grid_gap": null,
            "grid_row": null,
            "grid_template_areas": null,
            "grid_template_columns": null,
            "grid_template_rows": null,
            "height": null,
            "justify_content": null,
            "justify_items": null,
            "left": null,
            "margin": null,
            "max_height": null,
            "max_width": null,
            "min_height": null,
            "min_width": null,
            "object_fit": null,
            "object_position": null,
            "order": null,
            "overflow": null,
            "overflow_x": null,
            "overflow_y": null,
            "padding": null,
            "right": null,
            "top": null,
            "visibility": null,
            "width": null
          }
        },
        "a89770d3aeb9465c81eb72cb96a3c37e": {
          "model_module": "@jupyter-widgets/controls",
          "model_name": "DescriptionStyleModel",
          "model_module_version": "1.5.0",
          "state": {
            "_model_module": "@jupyter-widgets/controls",
            "_model_module_version": "1.5.0",
            "_model_name": "DescriptionStyleModel",
            "_view_count": null,
            "_view_module": "@jupyter-widgets/base",
            "_view_module_version": "1.2.0",
            "_view_name": "StyleView",
            "description_width": ""
          }
        },
        "23b51d2c17bf48d2882a357f4817cbea": {
          "model_module": "@jupyter-widgets/base",
          "model_name": "LayoutModel",
          "model_module_version": "1.2.0",
          "state": {
            "_model_module": "@jupyter-widgets/base",
            "_model_module_version": "1.2.0",
            "_model_name": "LayoutModel",
            "_view_count": null,
            "_view_module": "@jupyter-widgets/base",
            "_view_module_version": "1.2.0",
            "_view_name": "LayoutView",
            "align_content": null,
            "align_items": null,
            "align_self": null,
            "border": null,
            "bottom": null,
            "display": null,
            "flex": null,
            "flex_flow": null,
            "grid_area": null,
            "grid_auto_columns": null,
            "grid_auto_flow": null,
            "grid_auto_rows": null,
            "grid_column": null,
            "grid_gap": null,
            "grid_row": null,
            "grid_template_areas": null,
            "grid_template_columns": null,
            "grid_template_rows": null,
            "height": null,
            "justify_content": null,
            "justify_items": null,
            "left": null,
            "margin": null,
            "max_height": null,
            "max_width": null,
            "min_height": null,
            "min_width": null,
            "object_fit": null,
            "object_position": null,
            "order": null,
            "overflow": null,
            "overflow_x": null,
            "overflow_y": null,
            "padding": null,
            "right": null,
            "top": null,
            "visibility": null,
            "width": null
          }
        },
        "a9a26d7809e64e1b95e12884b3ac2082": {
          "model_module": "@jupyter-widgets/controls",
          "model_name": "ProgressStyleModel",
          "model_module_version": "1.5.0",
          "state": {
            "_model_module": "@jupyter-widgets/controls",
            "_model_module_version": "1.5.0",
            "_model_name": "ProgressStyleModel",
            "_view_count": null,
            "_view_module": "@jupyter-widgets/base",
            "_view_module_version": "1.2.0",
            "_view_name": "StyleView",
            "bar_color": null,
            "description_width": ""
          }
        },
        "053104f326774ff3ac1ebf2bb6c8a18d": {
          "model_module": "@jupyter-widgets/base",
          "model_name": "LayoutModel",
          "model_module_version": "1.2.0",
          "state": {
            "_model_module": "@jupyter-widgets/base",
            "_model_module_version": "1.2.0",
            "_model_name": "LayoutModel",
            "_view_count": null,
            "_view_module": "@jupyter-widgets/base",
            "_view_module_version": "1.2.0",
            "_view_name": "LayoutView",
            "align_content": null,
            "align_items": null,
            "align_self": null,
            "border": null,
            "bottom": null,
            "display": null,
            "flex": null,
            "flex_flow": null,
            "grid_area": null,
            "grid_auto_columns": null,
            "grid_auto_flow": null,
            "grid_auto_rows": null,
            "grid_column": null,
            "grid_gap": null,
            "grid_row": null,
            "grid_template_areas": null,
            "grid_template_columns": null,
            "grid_template_rows": null,
            "height": null,
            "justify_content": null,
            "justify_items": null,
            "left": null,
            "margin": null,
            "max_height": null,
            "max_width": null,
            "min_height": null,
            "min_width": null,
            "object_fit": null,
            "object_position": null,
            "order": null,
            "overflow": null,
            "overflow_x": null,
            "overflow_y": null,
            "padding": null,
            "right": null,
            "top": null,
            "visibility": null,
            "width": null
          }
        },
        "a933a067db6d42fa9d4e81200261f836": {
          "model_module": "@jupyter-widgets/controls",
          "model_name": "DescriptionStyleModel",
          "model_module_version": "1.5.0",
          "state": {
            "_model_module": "@jupyter-widgets/controls",
            "_model_module_version": "1.5.0",
            "_model_name": "DescriptionStyleModel",
            "_view_count": null,
            "_view_module": "@jupyter-widgets/base",
            "_view_module_version": "1.2.0",
            "_view_name": "StyleView",
            "description_width": ""
          }
        },
        "292a1efbdd3f4b22be6773ec4289e509": {
          "model_module": "@jupyter-widgets/controls",
          "model_name": "HBoxModel",
          "model_module_version": "1.5.0",
          "state": {
            "_dom_classes": [],
            "_model_module": "@jupyter-widgets/controls",
            "_model_module_version": "1.5.0",
            "_model_name": "HBoxModel",
            "_view_count": null,
            "_view_module": "@jupyter-widgets/controls",
            "_view_module_version": "1.5.0",
            "_view_name": "HBoxView",
            "box_style": "",
            "children": [
              "IPY_MODEL_e4da4ea8409f41098b28b5f596f842bc",
              "IPY_MODEL_f223bdd6d3284ed0ae034bc8a8151d24",
              "IPY_MODEL_6dd091de861548f1803f3ba53048a23e"
            ],
            "layout": "IPY_MODEL_231eb2f611104f5fb584e61d704939dc"
          }
        },
        "e4da4ea8409f41098b28b5f596f842bc": {
          "model_module": "@jupyter-widgets/controls",
          "model_name": "HTMLModel",
          "model_module_version": "1.5.0",
          "state": {
            "_dom_classes": [],
            "_model_module": "@jupyter-widgets/controls",
            "_model_module_version": "1.5.0",
            "_model_name": "HTMLModel",
            "_view_count": null,
            "_view_module": "@jupyter-widgets/controls",
            "_view_module_version": "1.5.0",
            "_view_name": "HTMLView",
            "description": "",
            "description_tooltip": null,
            "layout": "IPY_MODEL_2cf9cb46f750464891ab4682be4e8b13",
            "placeholder": "​",
            "style": "IPY_MODEL_e4aeb1e857cf4c4fbb5e16818c07c120",
            "value": "100%"
          }
        },
        "f223bdd6d3284ed0ae034bc8a8151d24": {
          "model_module": "@jupyter-widgets/controls",
          "model_name": "FloatProgressModel",
          "model_module_version": "1.5.0",
          "state": {
            "_dom_classes": [],
            "_model_module": "@jupyter-widgets/controls",
            "_model_module_version": "1.5.0",
            "_model_name": "FloatProgressModel",
            "_view_count": null,
            "_view_module": "@jupyter-widgets/controls",
            "_view_module_version": "1.5.0",
            "_view_name": "ProgressView",
            "bar_style": "success",
            "description": "",
            "description_tooltip": null,
            "layout": "IPY_MODEL_4935df9a61664b9da939f5ba19059cf2",
            "max": 5148,
            "min": 0,
            "orientation": "horizontal",
            "style": "IPY_MODEL_30500e191293475e87e0445d9a8a1fcc",
            "value": 5148
          }
        },
        "6dd091de861548f1803f3ba53048a23e": {
          "model_module": "@jupyter-widgets/controls",
          "model_name": "HTMLModel",
          "model_module_version": "1.5.0",
          "state": {
            "_dom_classes": [],
            "_model_module": "@jupyter-widgets/controls",
            "_model_module_version": "1.5.0",
            "_model_name": "HTMLModel",
            "_view_count": null,
            "_view_module": "@jupyter-widgets/controls",
            "_view_module_version": "1.5.0",
            "_view_name": "HTMLView",
            "description": "",
            "description_tooltip": null,
            "layout": "IPY_MODEL_f491c9a1a3504b1fac84ecbab31e22c3",
            "placeholder": "​",
            "style": "IPY_MODEL_c00aacc716694ba693882cc612c3cdb9",
            "value": " 5148/5148 [00:00&lt;00:00, 135435.07it/s]"
          }
        },
        "231eb2f611104f5fb584e61d704939dc": {
          "model_module": "@jupyter-widgets/base",
          "model_name": "LayoutModel",
          "model_module_version": "1.2.0",
          "state": {
            "_model_module": "@jupyter-widgets/base",
            "_model_module_version": "1.2.0",
            "_model_name": "LayoutModel",
            "_view_count": null,
            "_view_module": "@jupyter-widgets/base",
            "_view_module_version": "1.2.0",
            "_view_name": "LayoutView",
            "align_content": null,
            "align_items": null,
            "align_self": null,
            "border": null,
            "bottom": null,
            "display": null,
            "flex": null,
            "flex_flow": null,
            "grid_area": null,
            "grid_auto_columns": null,
            "grid_auto_flow": null,
            "grid_auto_rows": null,
            "grid_column": null,
            "grid_gap": null,
            "grid_row": null,
            "grid_template_areas": null,
            "grid_template_columns": null,
            "grid_template_rows": null,
            "height": null,
            "justify_content": null,
            "justify_items": null,
            "left": null,
            "margin": null,
            "max_height": null,
            "max_width": null,
            "min_height": null,
            "min_width": null,
            "object_fit": null,
            "object_position": null,
            "order": null,
            "overflow": null,
            "overflow_x": null,
            "overflow_y": null,
            "padding": null,
            "right": null,
            "top": null,
            "visibility": null,
            "width": null
          }
        },
        "2cf9cb46f750464891ab4682be4e8b13": {
          "model_module": "@jupyter-widgets/base",
          "model_name": "LayoutModel",
          "model_module_version": "1.2.0",
          "state": {
            "_model_module": "@jupyter-widgets/base",
            "_model_module_version": "1.2.0",
            "_model_name": "LayoutModel",
            "_view_count": null,
            "_view_module": "@jupyter-widgets/base",
            "_view_module_version": "1.2.0",
            "_view_name": "LayoutView",
            "align_content": null,
            "align_items": null,
            "align_self": null,
            "border": null,
            "bottom": null,
            "display": null,
            "flex": null,
            "flex_flow": null,
            "grid_area": null,
            "grid_auto_columns": null,
            "grid_auto_flow": null,
            "grid_auto_rows": null,
            "grid_column": null,
            "grid_gap": null,
            "grid_row": null,
            "grid_template_areas": null,
            "grid_template_columns": null,
            "grid_template_rows": null,
            "height": null,
            "justify_content": null,
            "justify_items": null,
            "left": null,
            "margin": null,
            "max_height": null,
            "max_width": null,
            "min_height": null,
            "min_width": null,
            "object_fit": null,
            "object_position": null,
            "order": null,
            "overflow": null,
            "overflow_x": null,
            "overflow_y": null,
            "padding": null,
            "right": null,
            "top": null,
            "visibility": null,
            "width": null
          }
        },
        "e4aeb1e857cf4c4fbb5e16818c07c120": {
          "model_module": "@jupyter-widgets/controls",
          "model_name": "DescriptionStyleModel",
          "model_module_version": "1.5.0",
          "state": {
            "_model_module": "@jupyter-widgets/controls",
            "_model_module_version": "1.5.0",
            "_model_name": "DescriptionStyleModel",
            "_view_count": null,
            "_view_module": "@jupyter-widgets/base",
            "_view_module_version": "1.2.0",
            "_view_name": "StyleView",
            "description_width": ""
          }
        },
        "4935df9a61664b9da939f5ba19059cf2": {
          "model_module": "@jupyter-widgets/base",
          "model_name": "LayoutModel",
          "model_module_version": "1.2.0",
          "state": {
            "_model_module": "@jupyter-widgets/base",
            "_model_module_version": "1.2.0",
            "_model_name": "LayoutModel",
            "_view_count": null,
            "_view_module": "@jupyter-widgets/base",
            "_view_module_version": "1.2.0",
            "_view_name": "LayoutView",
            "align_content": null,
            "align_items": null,
            "align_self": null,
            "border": null,
            "bottom": null,
            "display": null,
            "flex": null,
            "flex_flow": null,
            "grid_area": null,
            "grid_auto_columns": null,
            "grid_auto_flow": null,
            "grid_auto_rows": null,
            "grid_column": null,
            "grid_gap": null,
            "grid_row": null,
            "grid_template_areas": null,
            "grid_template_columns": null,
            "grid_template_rows": null,
            "height": null,
            "justify_content": null,
            "justify_items": null,
            "left": null,
            "margin": null,
            "max_height": null,
            "max_width": null,
            "min_height": null,
            "min_width": null,
            "object_fit": null,
            "object_position": null,
            "order": null,
            "overflow": null,
            "overflow_x": null,
            "overflow_y": null,
            "padding": null,
            "right": null,
            "top": null,
            "visibility": null,
            "width": null
          }
        },
        "30500e191293475e87e0445d9a8a1fcc": {
          "model_module": "@jupyter-widgets/controls",
          "model_name": "ProgressStyleModel",
          "model_module_version": "1.5.0",
          "state": {
            "_model_module": "@jupyter-widgets/controls",
            "_model_module_version": "1.5.0",
            "_model_name": "ProgressStyleModel",
            "_view_count": null,
            "_view_module": "@jupyter-widgets/base",
            "_view_module_version": "1.2.0",
            "_view_name": "StyleView",
            "bar_color": null,
            "description_width": ""
          }
        },
        "f491c9a1a3504b1fac84ecbab31e22c3": {
          "model_module": "@jupyter-widgets/base",
          "model_name": "LayoutModel",
          "model_module_version": "1.2.0",
          "state": {
            "_model_module": "@jupyter-widgets/base",
            "_model_module_version": "1.2.0",
            "_model_name": "LayoutModel",
            "_view_count": null,
            "_view_module": "@jupyter-widgets/base",
            "_view_module_version": "1.2.0",
            "_view_name": "LayoutView",
            "align_content": null,
            "align_items": null,
            "align_self": null,
            "border": null,
            "bottom": null,
            "display": null,
            "flex": null,
            "flex_flow": null,
            "grid_area": null,
            "grid_auto_columns": null,
            "grid_auto_flow": null,
            "grid_auto_rows": null,
            "grid_column": null,
            "grid_gap": null,
            "grid_row": null,
            "grid_template_areas": null,
            "grid_template_columns": null,
            "grid_template_rows": null,
            "height": null,
            "justify_content": null,
            "justify_items": null,
            "left": null,
            "margin": null,
            "max_height": null,
            "max_width": null,
            "min_height": null,
            "min_width": null,
            "object_fit": null,
            "object_position": null,
            "order": null,
            "overflow": null,
            "overflow_x": null,
            "overflow_y": null,
            "padding": null,
            "right": null,
            "top": null,
            "visibility": null,
            "width": null
          }
        },
        "c00aacc716694ba693882cc612c3cdb9": {
          "model_module": "@jupyter-widgets/controls",
          "model_name": "DescriptionStyleModel",
          "model_module_version": "1.5.0",
          "state": {
            "_model_module": "@jupyter-widgets/controls",
            "_model_module_version": "1.5.0",
            "_model_name": "DescriptionStyleModel",
            "_view_count": null,
            "_view_module": "@jupyter-widgets/base",
            "_view_module_version": "1.2.0",
            "_view_name": "StyleView",
            "description_width": ""
          }
        }
      }
    }
  },
  "cells": [
    {
      "cell_type": "code",
      "execution_count": 7,
      "metadata": {
        "id": "BsYDITcno6vd"
      },
      "outputs": [],
      "source": [
        "import numpy as np\n",
        "import torch\n",
        "from torch import nn\n",
        "import torchvision"
      ]
    },
    {
      "cell_type": "markdown",
      "source": [
        "![Screenshot from 2022-07-13 13-54-33.png](data:image/png;base64,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)"
      ],
      "metadata": {
        "id": "xCR2QO5eswj2"
      }
    },
    {
      "cell_type": "code",
      "source": [
        "trainingdata = torchvision.datasets.FashionMNIST('./FashionMNIST/',train=True,download=True,transform=torchvision.transforms.ToTensor())\n",
        "testdata = torchvision.datasets.FashionMNIST('./FashionMNIST/',train=False,download=True,transform=torchvision.transforms.ToTensor())"
      ],
      "metadata": {
        "colab": {
          "base_uri": "https://localhost:8080/",
          "height": 451,
          "referenced_widgets": [
            "c3b2e0110eaa4cf5a7cdaf92e66b047d",
            "1c6eafee7fe34eac8732856d2c1fa8cf",
            "66111ab330ab45fa8b9ae30fe4bb67b1",
            "dd886c4e9f834d49b54987eb50a1a0b3",
            "80e3c93bf1d34c4e8b87657a65612fc5",
            "3fd66cc9197945cdae05b32ac055fab2",
            "31325ea02933493bbc1516f6fedadcef",
            "18f3eb7041304a55a48eba1b563a05a6",
            "ead590a473cd4b62b7cb38831585432e",
            "38806a7b2f924456aa44a93aad63da77",
            "05a2c0d283794957aadc9749e7975e03",
            "baf2de2db5f5427380f239631e4d4c22",
            "693816d02835417ea850c9e7890756da",
            "73a878aaa2234479a14d2c87d59c10b3",
            "a875f1992ab94690bc1578d8e08ec281",
            "1dc5f1eef5a045e2a21dc229212fd03c",
            "a904612c172f4c678f8048aa451b7f44",
            "4aaf3862b97c452086b53313cd8bf626",
            "601d29800bc74d359eee0a88045681bd",
            "2ba59a78a9924b558feca5b8c73af658",
            "10803164734843558fcc0526b6fb4bbc",
            "6b3961fa6a4c4e5e8518f5926c2c0236",
            "a76ab03f70654086896d13eded34705a",
            "93b29187ea1143c68ad39191adf59216",
            "ffc2cd4889834593b7498a1685597d20",
            "c16165bfd9ef44a296d638df52adf599",
            "c1551c9d8d9047fe877863c9b736fd16",
            "5808f64b816042819127e6a1cdeb3bcb",
            "a89770d3aeb9465c81eb72cb96a3c37e",
            "23b51d2c17bf48d2882a357f4817cbea",
            "a9a26d7809e64e1b95e12884b3ac2082",
            "053104f326774ff3ac1ebf2bb6c8a18d",
            "a933a067db6d42fa9d4e81200261f836",
            "292a1efbdd3f4b22be6773ec4289e509",
            "e4da4ea8409f41098b28b5f596f842bc",
            "f223bdd6d3284ed0ae034bc8a8151d24",
            "6dd091de861548f1803f3ba53048a23e",
            "231eb2f611104f5fb584e61d704939dc",
            "2cf9cb46f750464891ab4682be4e8b13",
            "e4aeb1e857cf4c4fbb5e16818c07c120",
            "4935df9a61664b9da939f5ba19059cf2",
            "30500e191293475e87e0445d9a8a1fcc",
            "f491c9a1a3504b1fac84ecbab31e22c3",
            "c00aacc716694ba693882cc612c3cdb9"
          ]
        },
        "id": "E2XfEbzDpBkd",
        "outputId": "82d17c85-e45b-4c40-ac6b-e086b64e5333"
      },
      "execution_count": 2,
      "outputs": [
        {
          "output_type": "stream",
          "name": "stdout",
          "text": [
            "Downloading http://fashion-mnist.s3-website.eu-central-1.amazonaws.com/train-images-idx3-ubyte.gz\n",
            "Downloading http://fashion-mnist.s3-website.eu-central-1.amazonaws.com/train-images-idx3-ubyte.gz to ./FashionMNIST/FashionMNIST/raw/train-images-idx3-ubyte.gz\n"
          ]
        },
        {
          "output_type": "display_data",
          "data": {
            "text/plain": [
              "  0%|          | 0/26421880 [00:00<?, ?it/s]"
            ],
            "application/vnd.jupyter.widget-view+json": {
              "version_major": 2,
              "version_minor": 0,
              "model_id": "c3b2e0110eaa4cf5a7cdaf92e66b047d"
            }
          },
          "metadata": {}
        },
        {
          "output_type": "stream",
          "name": "stdout",
          "text": [
            "Extracting ./FashionMNIST/FashionMNIST/raw/train-images-idx3-ubyte.gz to ./FashionMNIST/FashionMNIST/raw\n",
            "\n",
            "Downloading http://fashion-mnist.s3-website.eu-central-1.amazonaws.com/train-labels-idx1-ubyte.gz\n",
            "Downloading http://fashion-mnist.s3-website.eu-central-1.amazonaws.com/train-labels-idx1-ubyte.gz to ./FashionMNIST/FashionMNIST/raw/train-labels-idx1-ubyte.gz\n"
          ]
        },
        {
          "output_type": "display_data",
          "data": {
            "text/plain": [
              "  0%|          | 0/29515 [00:00<?, ?it/s]"
            ],
            "application/vnd.jupyter.widget-view+json": {
              "version_major": 2,
              "version_minor": 0,
              "model_id": "baf2de2db5f5427380f239631e4d4c22"
            }
          },
          "metadata": {}
        },
        {
          "output_type": "stream",
          "name": "stdout",
          "text": [
            "Extracting ./FashionMNIST/FashionMNIST/raw/train-labels-idx1-ubyte.gz to ./FashionMNIST/FashionMNIST/raw\n",
            "\n",
            "Downloading http://fashion-mnist.s3-website.eu-central-1.amazonaws.com/t10k-images-idx3-ubyte.gz\n",
            "Downloading http://fashion-mnist.s3-website.eu-central-1.amazonaws.com/t10k-images-idx3-ubyte.gz to ./FashionMNIST/FashionMNIST/raw/t10k-images-idx3-ubyte.gz\n"
          ]
        },
        {
          "output_type": "display_data",
          "data": {
            "text/plain": [
              "  0%|          | 0/4422102 [00:00<?, ?it/s]"
            ],
            "application/vnd.jupyter.widget-view+json": {
              "version_major": 2,
              "version_minor": 0,
              "model_id": "a76ab03f70654086896d13eded34705a"
            }
          },
          "metadata": {}
        },
        {
          "output_type": "stream",
          "name": "stdout",
          "text": [
            "Extracting ./FashionMNIST/FashionMNIST/raw/t10k-images-idx3-ubyte.gz to ./FashionMNIST/FashionMNIST/raw\n",
            "\n",
            "Downloading http://fashion-mnist.s3-website.eu-central-1.amazonaws.com/t10k-labels-idx1-ubyte.gz\n",
            "Downloading http://fashion-mnist.s3-website.eu-central-1.amazonaws.com/t10k-labels-idx1-ubyte.gz to ./FashionMNIST/FashionMNIST/raw/t10k-labels-idx1-ubyte.gz\n"
          ]
        },
        {
          "output_type": "display_data",
          "data": {
            "text/plain": [
              "  0%|          | 0/5148 [00:00<?, ?it/s]"
            ],
            "application/vnd.jupyter.widget-view+json": {
              "version_major": 2,
              "version_minor": 0,
              "model_id": "292a1efbdd3f4b22be6773ec4289e509"
            }
          },
          "metadata": {}
        },
        {
          "output_type": "stream",
          "name": "stdout",
          "text": [
            "Extracting ./FashionMNIST/FashionMNIST/raw/t10k-labels-idx1-ubyte.gz to ./FashionMNIST/FashionMNIST/raw\n",
            "\n"
          ]
        }
      ]
    },
    {
      "cell_type": "code",
      "source": [
        "print(len(trainingdata))\n",
        "print(len(testdata))"
      ],
      "metadata": {
        "colab": {
          "base_uri": "https://localhost:8080/"
        },
        "id": "1xL4Wi0tpFFT",
        "outputId": "19dd0c56-583f-43de-816a-9f51254f2663"
      },
      "execution_count": 3,
      "outputs": [
        {
          "output_type": "stream",
          "name": "stdout",
          "text": [
            "60000\n",
            "10000\n"
          ]
        }
      ]
    },
    {
      "cell_type": "code",
      "source": [
        "image, label = trainingdata[0]\n",
        "print(image.shape, label)"
      ],
      "metadata": {
        "colab": {
          "base_uri": "https://localhost:8080/"
        },
        "id": "CGo1piI5pMrX",
        "outputId": "948933bf-25ae-4a60-c036-64cfabe35be5"
      },
      "execution_count": 4,
      "outputs": [
        {
          "output_type": "stream",
          "name": "stdout",
          "text": [
            "torch.Size([1, 28, 28]) 9\n"
          ]
        }
      ]
    },
    {
      "cell_type": "code",
      "source": [
        "import matplotlib.pyplot as plt\n",
        "%matplotlib inline\n",
        "plt.imshow(image.squeeze().numpy())\n",
        "plt.show()"
      ],
      "metadata": {
        "colab": {
          "base_uri": "https://localhost:8080/",
          "height": 265
        },
        "id": "3_pjkSzCpX95",
        "outputId": "74913507-855b-4633-8238-8dfe1136cca3"
      },
      "execution_count": 5,
      "outputs": [
        {
          "output_type": "display_data",
          "data": {
            "text/plain": [
              "<Figure size 432x288 with 1 Axes>"
            ],
            "image/png": "[encoded data removed]"
          },
          "metadata": {
            "needs_background": "light"
          }
        }
      ]
    },
    {
      "cell_type": "code",
      "source": [
        "trainDataLoader = torch.utils.data.DataLoader(trainingdata,batch_size=64,shuffle=True)\n",
        "testDataLoader = torch.utils.data.DataLoader(testdata,batch_size=64,shuffle=False)\n",
        "n_features = 28 * 28"
      ],
      "metadata": {
        "id": "SEq2e0b-pe0z"
      },
      "execution_count": 15,
      "outputs": []
    },
    {
      "cell_type": "code",
      "source": [
        "class Classification(torch.nn.Module):\n",
        "  def __init__(self, n_features, hiddenA, hiddenB):\n",
        "    super(Classification, self).__init__()\n",
        "    self.linearA = nn.Linear(n_features, hiddenA)\n",
        "    self.linearB = nn.Linear(hiddenA, hiddenB)\n",
        "    self.linearC = nn.Linear(hiddenB, 10) #10 is number of outputs\n",
        "    self.relu1 = nn.ReLU()\n",
        "    self.softmax = torch.nn.Softmax() #defining softmax\n",
        "\n",
        "  def forward(self, x):\n",
        "    x = x.view(-1,28*28)\n",
        "    y_pred = self.linearA(x)\n",
        "    y_pred = self.relu1(y_pred)\n",
        "    y_pred = self.linearB(y_pred)\n",
        "    y_pred = self.relu1(y_pred) #add relu after each hidden layer\n",
        "    y_pred = self.linearC(y_pred)\n",
        "    y_pred = self.softmax(y_pred) #softmax at the end\n",
        "    return y_pred"
      ],
      "metadata": {
        "id": "plhIXspaGoX-"
      },
      "execution_count": 22,
      "outputs": []
    },
    {
      "cell_type": "code",
      "source": [
        "net = Classification(n_features, 100, 50)\n",
        "Loss = torch.nn.CrossEntropyLoss()\n",
        "optimizer = torch.optim.SGD(net.parameters(), lr=0.001) #final loss: 1.6812753357104402 when lr = 0.01\n",
        "train_loss_history = []\n",
        "test_loss_history = []\n",
        "\n",
        "for epoch in range(20):\n",
        "  train_loss = 0.0\n",
        "  test_loss = 0.0\n",
        "  for i, data in enumerate(trainDataLoader):\n",
        "    images, labels = data\n",
        "    optimizer.zero_grad()\n",
        "    predicted_output = net(images)\n",
        "    fit = Loss(predicted_output,labels)\n",
        "    fit.backward()\n",
        "    optimizer.step()\n",
        "    train_loss += fit.item()\n",
        "  train_loss = train_loss/len(trainDataLoader)\n",
        "  train_loss_history.append(train_loss)\n",
        "  print('Epoch %s, Train loss %s'%(epoch, train_loss))"
      ],
      "metadata": {
        "colab": {
          "base_uri": "https://localhost:8080/"
        },
        "id": "RP8FLaCPIefF",
        "outputId": "d07a9038-cd89-48c5-c5b8-ac73fe2809f5"
      },
      "execution_count": 27,
      "outputs": [
        {
          "output_type": "stream",
          "name": "stderr",
          "text": [
            "/usr/local/lib/python3.7/dist-packages/ipykernel_launcher.py:18: UserWarning: Implicit dimension choice for softmax has been deprecated. Change the call to include dim=X as an argument.\n"
          ]
        },
        {
          "output_type": "stream",
          "name": "stdout",
          "text": [
            "Epoch 0, Train loss 2.3013614868558547\n",
            "Epoch 1, Train loss 2.300214234445649\n",
            "Epoch 2, Train loss 2.299004268036214\n",
            "Epoch 3, Train loss 2.297734241241585\n",
            "Epoch 4, Train loss 2.2963749899793027\n",
            "Epoch 5, Train loss 2.2949061663166037\n",
            "Epoch 6, Train loss 2.2932901522243965\n",
            "Epoch 7, Train loss 2.2914836871852753\n",
            "Epoch 8, Train loss 2.289456290476866\n",
            "Epoch 9, Train loss 2.2871537272101525\n",
            "Epoch 10, Train loss 2.2845440126939622\n",
            "Epoch 11, Train loss 2.281568266943828\n",
            "Epoch 12, Train loss 2.278172819344982\n",
            "Epoch 13, Train loss 2.2743165027866485\n",
            "Epoch 14, Train loss 2.2699276262254857\n",
            "Epoch 15, Train loss 2.264918407905839\n",
            "Epoch 16, Train loss 2.2591027949156284\n",
            "Epoch 17, Train loss 2.2520950160809416\n",
            "Epoch 18, Train loss 2.2431019692024443\n",
            "Epoch 19, Train loss 2.2308517102239485\n"
          ]
        }
      ]
    },
    {
      "cell_type": "code",
      "source": [
        "plt.plot(train_loss_history)\n",
        "plt.grid(True)"
      ],
      "metadata": {
        "colab": {
          "base_uri": "https://localhost:8080/",
          "height": 265
        },
        "id": "hTmZ65qsNWHC",
        "outputId": "3964182b-5f11-47bd-e945-a1d7a57ae46e"
      },
      "execution_count": 26,
      "outputs": [
        {
          "output_type": "display_data",
          "data": {
            "text/plain": [
              "<Figure size 432x288 with 1 Axes>"
            ],
            "image/png": "[encoded data removed]"
          },
          "metadata": {
            "needs_background": "light"
          }
        }
      ]
    },
    {
      "cell_type": "code",
      "source": [
        "images, labels = iter(trainDataLoader).next()\n",
        "print(labels.shape)"
      ],
      "metadata": {
        "colab": {
          "base_uri": "https://localhost:8080/"
        },
        "id": "vPK-jy5drUnS",
        "outputId": "5484a070-1227-4dc2-e527-e7c3c8abcebb"
      },
      "execution_count": null,
      "outputs": [
        {
          "output_type": "stream",
          "name": "stdout",
          "text": [
            "torch.Size([64])\n"
          ]
        }
      ]
    },
    {
      "cell_type": "code",
      "source": [
        "import numpy as np\n",
        "import matplotlib.pyplot as plt\n",
        "x = np.linspace(0, 1, 10)\n",
        "y = -np.log(x)\n",
        "plt.plot(x, y)\n",
        "plt.show()"
      ],
      "metadata": {
        "colab": {
          "base_uri": "https://localhost:8080/",
          "height": 301
        },
        "id": "wPaMe45XwGj6",
        "outputId": "0f9ecba0-9842-441e-a536-f7c37d210a62"
      },
      "execution_count": null,
      "outputs": [
        {
          "output_type": "stream",
          "name": "stderr",
          "text": [
            "/usr/local/lib/python3.7/dist-packages/ipykernel_launcher.py:4: RuntimeWarning: divide by zero encountered in log\n",
            "  after removing the cwd from sys.path.\n"
          ]
        },
        {
          "output_type": "display_data",
          "data": {
            "text/plain": [
              "<Figure size 432x288 with 1 Axes>"
            ],
            "image/png": "[encoded data removed]"
          },
          "metadata": {
            "needs_background": "light"
          }
        }
      ]
    }
  ]
}